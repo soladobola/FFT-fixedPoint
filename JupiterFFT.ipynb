{
  "nbformat": 4,
  "nbformat_minor": 0,
  "metadata": {
    "colab": {
      "name": "JupiterFFT.ipynb",
      "provenance": [],
      "collapsed_sections": [],
      "authorship_tag": "ABX9TyNzvO3cfhEeXl2GeGuz/reB",
      "include_colab_link": true
    },
    "kernelspec": {
      "name": "python3",
      "display_name": "Python 3"
    }
  },
  "cells": [
    {
      "cell_type": "markdown",
      "metadata": {
        "id": "view-in-github",
        "colab_type": "text"
      },
      "source": [
        "<a href=\"https://colab.research.google.com/github/soladobola/FFT-fixedPoint/blob/master/JupiterFFT.ipynb\" target=\"_parent\"><img src=\"https://colab.research.google.com/assets/colab-badge.svg\" alt=\"Open In Colab\"/></a>"
      ]
    },
    {
      "cell_type": "markdown",
      "metadata": {
        "id": "hsCZGgv5SmY8",
        "colab_type": "text"
      },
      "source": [
        "**Fixed-point FFT**\n"
      ]
    },
    {
      "cell_type": "markdown",
      "metadata": {
        "id": "C3Qe4LJATs64",
        "colab_type": "text"
      },
      "source": [
        "Na samom početku importovacemo neophodne bibiloteke.\n"
      ]
    },
    {
      "cell_type": "code",
      "metadata": {
        "id": "y9APR2-8QLmv",
        "colab_type": "code",
        "colab": {}
      },
      "source": [
        "from FixedPoint import FXfamily\n",
        "from ComplexFP import *\n",
        "from RoundingUtility import *\n",
        "import matplotlib.pyplot as plt\n",
        "import numpy as np"
      ],
      "execution_count": 1,
      "outputs": []
    },
    {
      "cell_type": "markdown",
      "metadata": {
        "id": "tn9yMNaJUOyP",
        "colab_type": "text"
      },
      "source": [
        "Za pocetak cemo isprobati komercijalnu funkciju za rad u pokretnom zarezu. To je **np.fft.fft**, pogledajmo rezultat za konkretne vrednosti u vremenskom domenu."
      ]
    },
    {
      "cell_type": "code",
      "metadata": {
        "id": "vyPAchF7QQCz",
        "colab_type": "code",
        "colab": {
          "base_uri": "https://localhost:8080/",
          "height": 51
        },
        "outputId": "2667d17a-8b17-4ebc-b8a3-5968b936a9ec"
      },
      "source": [
        "sample_t = [1, 2, 3, 4, 5, 6, 7, 8]\n",
        "np.fft.fft(sample_t)"
      ],
      "execution_count": 2,
      "outputs": [
        {
          "output_type": "execute_result",
          "data": {
            "text/plain": [
              "array([36.+0.j        , -4.+9.65685425j, -4.+4.j        , -4.+1.65685425j,\n",
              "       -4.+0.j        , -4.-1.65685425j, -4.-4.j        , -4.-9.65685425j])"
            ]
          },
          "metadata": {
            "tags": []
          },
          "execution_count": 2
        }
      ]
    },
    {
      "cell_type": "markdown",
      "metadata": {
        "id": "0FI0HoxBaJ8z",
        "colab_type": "text"
      },
      "source": [
        "Kao sto vidimo, za uneti niz diskretnih vrednosti dobili sto isto toliko elemenata kao rezultat koji nam predstavlja magnitudu odredjenih učestanosti. Učestanost u ovom smislu je neodredjena jer ne znamo frekvenciju kojom je uzorak uzet, medjutim ako znamo osnovnu učestanost **w0** onda su redom koeficijenti **w0, 2w0, 3w0** itd, osim nulte tačke koja nam predstavlja srednju vrednost.\n",
        "\n",
        "\n",
        "Međutim, ova funkcija radi u pokretnom zarezu, naš cilj jeste realizacije ove funkcionalnosti ali u fiksnom zarezu. Pogledajmo primer rada naše funkcije za ovaj konkretan slučaj."
      ]
    },
    {
      "cell_type": "code",
      "metadata": {
        "id": "ji8mE4RjRxzh",
        "colab_type": "code",
        "colab": {
          "base_uri": "https://localhost:8080/",
          "height": 51
        },
        "outputId": "e1d07549-568f-4c91-bcc1-ad34384f51ab"
      },
      "source": [
        "sample_t = [1, 2, 3, 4, 5, 6, 7, 8]\n",
        "\n",
        "# Initialize resolution\n",
        "int_bits = 8\n",
        "fraction_bits = 6\n",
        "\n",
        "# Initialize family\n",
        "fam = FXfamily(fraction_bits, int_bits)\n",
        "\n",
        "complex_sample_t = realInComplex(sample_t, fam)\n",
        "toNumpyArray(fft(complex_sample_t, fam))"
      ],
      "execution_count": 3,
      "outputs": [
        {
          "output_type": "execute_result",
          "data": {
            "text/plain": [
              "array([36.    +0.j    , -3.9375+9.6875j, -4.    +3.9375j, -3.75  +1.25j  ,\n",
              "       -4.    +0.j    , -4.0625-1.6875j, -4.    -3.9375j, -4.25  -9.25j  ])"
            ]
          },
          "metadata": {
            "tags": []
          },
          "execution_count": 3
        }
      ]
    },
    {
      "cell_type": "markdown",
      "metadata": {
        "id": "JFVmEm3lvJ9G",
        "colab_type": "text"
      },
      "source": [
        "Kao što primecujemo, malo je komplikovanije, ali smo dobili slični rezultat. Na početku smo morali da izaberemo rezoluciju i pridruziti je samoj fft funkciji. Da ne bi stalno pisali ovo uvodimo novu funkciju koja ce se zvati **fixedfft** koja ce zapravo ove korake raditi umesto nas. Pogledajmo primer."
      ]
    },
    {
      "cell_type": "code",
      "metadata": {
        "id": "OSpgIgK9R12_",
        "colab_type": "code",
        "colab": {
          "base_uri": "https://localhost:8080/",
          "height": 68
        },
        "outputId": "b739f128-6f4d-4a0f-f1ec-dfba83b6f6ea"
      },
      "source": [
        "#def fixedfft(fraction_bits, int_bits, arr, round=None)\n",
        "sample_t = [1, 2, 3, 4, 5, 6, 7, 8]\n",
        "fixedfft(8, 8, sample_t)"
      ],
      "execution_count": 4,
      "outputs": [
        {
          "output_type": "execute_result",
          "data": {
            "text/plain": [
              "array([36.      +0.j      , -4.015625+9.578125j, -3.984375+3.984375j,\n",
              "       -4.      +1.65625j , -4.      +0.j      , -3.984375-1.578125j,\n",
              "       -4.015625-3.984375j, -4.      -9.65625j ])"
            ]
          },
          "metadata": {
            "tags": []
          },
          "execution_count": 4
        }
      ]
    },
    {
      "cell_type": "markdown",
      "metadata": {
        "id": "DvejvKW-lh0A",
        "colab_type": "text"
      },
      "source": [
        "Kao sto vidimo iz definicije **fixedfft** funkcije postoji jos jedan opcioni parametar pod nazivom **round**, on nam zapravo predstavlja naziv metode koju zelimo da upotrebimo za zaokrugljivanje medjurezultata operacija.\n",
        "Implementirane metode su:\n",
        "def trimBinary(opt): <br>\n",
        "        'TRUNC' or 'ROUND_DOWN' <br>\n",
        "        'ROUND_UP' <br>\n",
        "        'ROUND_TOWARDS_ZERO' <br>\n",
        "        'ROUND_AWAY_FROM_ZERO' <br>\n",
        "        'ROUND_HALF_DOWN' <br>\n",
        "        'ROUND_HALF_UP' <br>\n",
        "        'ROUND_HALF_TOWARDS_ZERO' <br>\n",
        "        'ROUND_HALF_AWAY_FROM_ZERO' <br>\n",
        "        'ROUND_HALF_TO_EVEN' <br>\n",
        "        'ROUND_HALF_TO_ODD' <br>\n",
        "        'RANDOM_ROUND_UP' <br>\n",
        "        <br>\n",
        "        **U slučaju odsustva ovog parametra podrazumevana vrednost je 'TRUNC'**\n",
        "        <br>\n",
        "        <br>\n",
        " Pogledajmo primer nase funkcije sa jednom od ovih metoda.\n"
      ]
    },
    {
      "cell_type": "code",
      "metadata": {
        "id": "ct4ImzZxpWir",
        "colab_type": "code",
        "colab": {
          "base_uri": "https://localhost:8080/",
          "height": 51
        },
        "outputId": "5b4bedb1-5bd5-4297-f5e7-8649742f683d"
      },
      "source": [
        "sample_t = [1, 2, 3, 4, 5, 6, 7, 8]\n",
        "fixedfft(3, 8, sample_t, 'ROUND_HALF_TOWARDS_ZERO')\n",
        "#fixedfft(4, 8, sample_t, 'ROUND_AWAY_FROM_ZERO')\n",
        "#fixedfft(5, 8, sample_t, 'ROUND_UP')"
      ],
      "execution_count": 5,
      "outputs": [
        {
          "output_type": "execute_result",
          "data": {
            "text/plain": [
              "array([36.    +0.j   , -1.125 +7.75j , -2.5   +4.j   , -2.5   +3.125j,\n",
              "       -4.    +0.j   , -4.875 +0.25j , -5.5   -4.j   , -7.5  -11.125j])"
            ]
          },
          "metadata": {
            "tags": []
          },
          "execution_count": 5
        }
      ]
    },
    {
      "cell_type": "markdown",
      "metadata": {
        "id": "cqPapcMBukeq",
        "colab_type": "text"
      },
      "source": [
        "Savrseno, medjutim, sta ako zelimo da procenimo koliko odstupamo od **np.fft.ftt** funkcije?<br>\n",
        "Pokusacemo to da uradimo na 2 nacina. <br> <br>\n",
        "**I način**: iskorisimo matematiku! Ideja je jednostavna, napravimo funkciju koja ce nam dati **distancu** izmedju dva numpy niza. Distanca moze biti **MSE (mean square error)**. Racunacemo po formuli: **mse = sum(|y - yr|^2)/n**"
      ]
    },
    {
      "cell_type": "code",
      "metadata": {
        "id": "PFuSFkg7uoTs",
        "colab_type": "code",
        "colab": {}
      },
      "source": [
        "def mse(arr1, arr2):\n",
        "  assert len(arr1) == len(arr2)\n",
        "  mag = []\n",
        "  for x in range(len(arr1)):\n",
        "    mag.append(abs(arr1[x] - arr2[x])**2)\n",
        "  return sum(mag)/len(arr1)\n"
      ],
      "execution_count": 6,
      "outputs": []
    },
    {
      "cell_type": "markdown",
      "metadata": {
        "id": "Vt-5Csrx6myV",
        "colab_type": "text"
      },
      "source": [
        "Pogledajmo sada jedan jednostavan primer:"
      ]
    },
    {
      "cell_type": "code",
      "metadata": {
        "id": "dVFgWaRuzfsc",
        "colab_type": "code",
        "colab": {
          "base_uri": "https://localhost:8080/",
          "height": 34
        },
        "outputId": "76ff47b0-d0da-48e3-a6fc-918f23752486"
      },
      "source": [
        "signal_t = [1, 2, 3, 4, 5, 6, 7, 8, 9, 10, 11, 12, 13, 14, 15, 16]\n",
        "A = np.fft.fft(signal_t)\n",
        "B = fixedfft(4, 10, signal_t, 'ROUND_UP')\n",
        "err = mse(A, B)\n",
        "print(\"Mean square error is \" + str(err))"
      ],
      "execution_count": 7,
      "outputs": [
        {
          "output_type": "stream",
          "text": [
            "Mean square error is 24.205499855729546\n"
          ],
          "name": "stdout"
        }
      ]
    },
    {
      "cell_type": "markdown",
      "metadata": {
        "id": "AuGH58z99W5i",
        "colab_type": "text"
      },
      "source": [
        "Sada se prirodno postavlja pitanje: \"Koja je najbolja metoda?\", hajde da vidimo!"
      ]
    },
    {
      "cell_type": "code",
      "metadata": {
        "id": "VrC3Nzf367y-",
        "colab_type": "code",
        "colab": {
          "base_uri": "https://localhost:8080/",
          "height": 34
        },
        "outputId": "3246abb0-5c0f-45bd-95cc-96939fdd890e"
      },
      "source": [
        "methods = ['ROUND_DOWN', 'ROUND_UP', 'ROUND_TOWARDS_ZERO', \n",
        "           'ROUND_AWAY_FROM_ZERO', 'ROUND_HALF_DOWN', 'ROUND_HALF_UP', \n",
        "           'ROUND_HALF_TOWARDS_ZERO', 'ROUND_HALF_AWAY_FROM_ZERO', \n",
        "           'ROUND_HALF_TO_EVEN', 'ROUND_HALF_TO_ODD', 'RANDOM_ROUND_UP']\n",
        "\n",
        "signal_t = [1, 2, 3, 4, 5, 6, 7, 8, 9, 10, 11, 12, 13, 14, 15, 16]\n",
        "y = np.fft.fft(signal_t)\n",
        "\n",
        "indBest = 0;\n",
        "mseBest = float('inf')\n",
        "ind = 0\n",
        "for x in methods:\n",
        "  ycap = fixedfft(4, 10, signal_t, x)\n",
        "  tempMse = mse(y, ycap)\n",
        "  if tempMse < mseBest:\n",
        "      mseBest = tempMse\n",
        "      indBest = ind\n",
        "  ind += 1\n",
        "print(\"Best method is \" + methods[indBest] + \" with MSE = \" + str(mseBest))\n"
      ],
      "execution_count": 8,
      "outputs": [
        {
          "output_type": "stream",
          "text": [
            "Best method is ROUND_DOWN with MSE = 6.271842080442643\n"
          ],
          "name": "stdout"
        }
      ]
    },
    {
      "cell_type": "markdown",
      "metadata": {
        "id": "wmgugp-aE2WE",
        "colab_type": "text"
      },
      "source": [
        "Naravno treba napomenuti da je ovo slucaj za ove konkretne parametre, ne mora da znaci da je generalno tacno, ako promenimo recimo preciznost i rezultat moze da se razlikuje. <br> <br>\n",
        "\n",
        "Pogledajmo sada kako MSE zavisi od broja bitova posle decimalnog zareza. Dakle metodu zaokrugljivanja cemo ovde fiksirati.\n"
      ]
    },
    {
      "cell_type": "code",
      "metadata": {
        "id": "aSVeYAcu-AHm",
        "colab_type": "code",
        "colab": {}
      },
      "source": [
        "def mseiter(int_bits, min_frac_bits, max_frac_bits, sample, round):\n",
        "  res = []\n",
        "  ref = np.fft.fft(sample)\n",
        "  for x in range(min_frac_bits, max_frac_bits + 1, 2):\n",
        "    res.append(mse(ref, fixedfft(x, int_bits, sample, round)))\n",
        "  return np.array(res)"
      ],
      "execution_count": 39,
      "outputs": []
    },
    {
      "cell_type": "code",
      "metadata": {
        "id": "MsuXz6sJK9Vs",
        "colab_type": "code",
        "colab": {
          "base_uri": "https://localhost:8080/",
          "height": 34
        },
        "outputId": "35ef3fc9-3828-49cc-83d3-aa41478cfb7b"
      },
      "source": [
        "mseiter(10, 2, 5, [1, 2, 3, 4, 5, 6, 7, 8], 'ROUND_DOWN')"
      ],
      "execution_count": 26,
      "outputs": [
        {
          "output_type": "execute_result",
          "data": {
            "text/plain": [
              "array([30.60786438,  0.13730163,  0.25862197,  0.06101646])"
            ]
          },
          "metadata": {
            "tags": []
          },
          "execution_count": 26
        }
      ]
    },
    {
      "cell_type": "markdown",
      "metadata": {
        "id": "CemiKy25LYaJ",
        "colab_type": "text"
      },
      "source": [
        "Naravno, bolje ćemo steci intuiciju ako prikažemo ove podatke grafički. Mada cemo uzeti vise odabarika zbog efekta akomuliranja greske."
      ]
    },
    {
      "cell_type": "code",
      "metadata": {
        "id": "hfqJJdufLFL_",
        "colab_type": "code",
        "colab": {
          "base_uri": "https://localhost:8080/",
          "height": 291
        },
        "outputId": "e6118522-1d7e-4775-84b6-d5fbb620e418"
      },
      "source": [
        "sample = range(1, 2**9 + 1)\n",
        "min_frac_bits = 2\n",
        "max_frac_bits = 15\n",
        "plt.ylabel(\"MSE\")\n",
        "plt.xlabel(\"frac_bits\")\n",
        "data = mseiter(32, min_frac_bits, max_frac_bits, sample, 'RANDOM_ROUND_UP')\n",
        "xvalues = range(min_frac_bits, max_frac_bits + 1, 2)\n",
        "plt.plot(xvalues, data)\n",
        "plt.show()"
      ],
      "execution_count": 42,
      "outputs": [
        {
          "output_type": "display_data",
          "data": {
            "image/png": "[encoded data removed]",
            "text/plain": [
              "<Figure size 432x288 with 1 Axes>"
            ]
          },
          "metadata": {
            "tags": [],
            "needs_background": "light"
          }
        }
      ]
    },
    {
      "cell_type": "markdown",
      "metadata": {
        "id": "UGTZB1HvWof2",
        "colab_type": "text"
      },
      "source": [
        "**Note:** oznaka **1e8** na y-osi nam kazuje da je vrednost funkcije zapravo skalirana sa **10^8**.\n",
        "<br>"
      ]
    },
    {
      "cell_type": "markdown",
      "metadata": {
        "id": "RtgCNx8KWlMS",
        "colab_type": "text"
      },
      "source": [
        "**II način**: Umesto da računamo gresku, zasto ne bismo samo iscrtali grafike jedan pored drugog? Hajde da probamo. Isrtacemo **power spektar** nase funkcije i np.fft.fft."
      ]
    },
    {
      "cell_type": "code",
      "metadata": {
        "id": "GMfnjX4KgE59",
        "colab_type": "code",
        "colab": {}
      },
      "source": [
        "def drawfft(int_bits, n_bits, sample, round):\n",
        "  ref = np.fft.fft(sample)\n",
        "  ref = np.abs(ref)\n",
        "  plt.plot(ref)\n",
        "  # Common\n",
        "  plt.ylabel(\"magnitude\")\n",
        "  plt.xlabel(\"frequency\")\n",
        "  legends = ['float_precision'] + round\n",
        "  for x in round:\n",
        "    data = np.abs(fixedfft(n_bits, int_bits, sample, x))\n",
        "    plt.plot(data)\n",
        "  # show plots\n",
        "  plt.legend(legends)\n",
        "  plt.show()\n"
      ],
      "execution_count": 44,
      "outputs": []
    },
    {
      "cell_type": "code",
      "metadata": {
        "id": "pbEik6YijKbF",
        "colab_type": "code",
        "colab": {
          "base_uri": "https://localhost:8080/",
          "height": 279
        },
        "outputId": "c6180b64-83f9-4081-fa8b-05f4e11dde58"
      },
      "source": [
        "drawfft(16, 2, range(1, 2**5 + 1), ['ROUND_DOWN', 'ROUND_HALF_TOWARDS_ZERO'])"
      ],
      "execution_count": 57,
      "outputs": [
        {
          "output_type": "display_data",
          "data": {
            "image/png": "[encoded data removed]",
            "text/plain": [
              "<Figure size 432x288 with 1 Axes>"
            ]
          },
          "metadata": {
            "tags": [],
            "needs_background": "light"
          }
        }
      ]
    },
    {
      "cell_type": "code",
      "metadata": {
        "id": "uh2oU1UbjWmz",
        "colab_type": "code",
        "colab": {
          "base_uri": "https://localhost:8080/",
          "height": 279
        },
        "outputId": "f1d2f120-bee7-4312-8a04-f52085c39ad8"
      },
      "source": [
        "drawfft(16, 3, range(1, 2**5 + 1), ['ROUND_DOWN', 'ROUND_HALF_TOWARDS_ZERO'])"
      ],
      "execution_count": 58,
      "outputs": [
        {
          "output_type": "display_data",
          "data": {
            "image/png": "[encoded data removed]",
            "text/plain": [
              "<Figure size 432x288 with 1 Axes>"
            ]
          },
          "metadata": {
            "tags": [],
            "needs_background": "light"
          }
        }
      ]
    },
    {
      "cell_type": "code",
      "metadata": {
        "id": "7r04ZnB0kXbx",
        "colab_type": "code",
        "colab": {
          "base_uri": "https://localhost:8080/",
          "height": 279
        },
        "outputId": "5ec64152-3cf8-4d1a-8db0-56295dbc06b2"
      },
      "source": [
        "drawfft(16, 4, range(1, 2**5 + 1), ['ROUND_DOWN', 'ROUND_HALF_TOWARDS_ZERO'])"
      ],
      "execution_count": 59,
      "outputs": [
        {
          "output_type": "display_data",
          "data": {
            "image/png": "[encoded data removed]",
            "text/plain": [
              "<Figure size 432x288 with 1 Axes>"
            ]
          },
          "metadata": {
            "tags": [],
            "needs_background": "light"
          }
        }
      ]
    },
    {
      "cell_type": "code",
      "metadata": {
        "id": "SGVZ-dxRkc1a",
        "colab_type": "code",
        "colab": {
          "base_uri": "https://localhost:8080/",
          "height": 279
        },
        "outputId": "65c74d08-df4e-48b1-9839-55ce7e9ede30"
      },
      "source": [
        "drawfft(16, 10, range(1, 2**6 + 1), ['ROUND_DOWN', 'ROUND_HALF_TOWARDS_ZERO'])"
      ],
      "execution_count": 64,
      "outputs": [
        {
          "output_type": "display_data",
          "data": {
            "image/png": "[encoded data removed]",
            "text/plain": [
              "<Figure size 432x288 with 1 Axes>"
            ]
          },
          "metadata": {
            "tags": [],
            "needs_background": "light"
          }
        }
      ]
    },
    {
      "cell_type": "code",
      "metadata": {
        "id": "YNeNUzKczG1Q",
        "colab_type": "code",
        "colab": {}
      },
      "source": [
        ""
      ],
      "execution_count": null,
      "outputs": []
    }
  ]
}